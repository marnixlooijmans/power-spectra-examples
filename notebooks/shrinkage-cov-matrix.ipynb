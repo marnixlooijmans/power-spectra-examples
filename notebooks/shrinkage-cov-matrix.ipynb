{
 "cells": [
  {
   "cell_type": "code",
   "execution_count": 1,
   "metadata": {},
   "outputs": [],
   "source": [
    "import numpy as np\n",
    "import os\n",
    "import sys\n",
    "\n",
    "module_path = os.path.abspath(os.path.join(\"..\"))\n",
    "if module_path not in sys.path:\n",
    "    sys.path.append(module_path)\n",
    "    \n",
    "from lib.shrinkage_estimators import NERCOME, shrinkage"
   ]
  },
  {
   "cell_type": "code",
   "execution_count": 2,
   "metadata": {},
   "outputs": [],
   "source": [
    "data_path = \"../data/Patchy_V6C_BOSS_DR12_NGC_z1\"\n",
    "filenames = os.listdir(data_path)\n",
    "\n",
    "# Empty power spectrum matrix\n",
    "P = np.empty((1200, len(filenames)))\n",
    "\n",
    "i = 0;\n",
    "for filename in filenames:\n",
    "    # Load the data as a 2D array\n",
    "    data = np.loadtxt(os.path.join(data_path, filename), skiprows=31)\n",
    "\n",
    "    # Assign labels to data\n",
    "    P0 = data[:,2]\n",
    "    P2 = data[:,6]\n",
    "    P4 = data[:,10]\n",
    "    \n",
    "    # Add total data as one column vector to the power spectrum matrix\n",
    "    P[:,i] = np.concatenate((P0, P2, P4))\n",
    "    i += 1"
   ]
  },
  {
   "cell_type": "code",
   "execution_count": 3,
   "metadata": {},
   "outputs": [],
   "source": [
    "cov, S, s_min = NERCOME.NERCOME(P)"
   ]
  },
  {
   "cell_type": "code",
   "execution_count": 7,
   "metadata": {},
   "outputs": [
    {
     "name": "stdout",
     "output_type": "stream",
     "text": [
      "(1200, 1200)\n",
      "[[0.00000000e+00 0.00000000e+00 0.00000000e+00 ... 0.00000000e+00\n",
      "  0.00000000e+00 0.00000000e+00]\n",
      " [0.00000000e+00 8.38458622e+08 1.28887637e+09 ... 8.48977989e+04\n",
      "  3.04069404e+04 3.16158481e+04]\n",
      " [0.00000000e+00 1.28887637e+09 2.05067446e+09 ... 1.24966817e+05\n",
      "  4.32090432e+04 4.11625951e+04]\n",
      " ...\n",
      " [0.00000000e+00 8.48977989e+04 1.24966817e+05 ... 1.01947899e+04\n",
      "  7.59113333e+03 6.86209502e+03]\n",
      " [0.00000000e+00 3.04069404e+04 4.32090432e+04 ... 7.59113333e+03\n",
      "  1.01123620e+04 7.90604055e+03]\n",
      " [0.00000000e+00 3.16158481e+04 4.11625951e+04 ... 6.86209502e+03\n",
      "  7.90604055e+03 1.07360255e+04]]\n"
     ]
    }
   ],
   "source": [
    "print(cov.shape)\n",
    "print(cov)"
   ]
  },
  {
   "cell_type": "code",
   "execution_count": 6,
   "metadata": {},
   "outputs": [],
   "source": []
  }
 ],
 "metadata": {
  "kernelspec": {
   "display_name": "Python 3",
   "language": "python",
   "name": "python3"
  },
  "language_info": {
   "codemirror_mode": {
    "name": "ipython",
    "version": 3
   },
   "file_extension": ".py",
   "mimetype": "text/x-python",
   "name": "python",
   "nbconvert_exporter": "python",
   "pygments_lexer": "ipython3",
   "version": "3.8.3"
  }
 },
 "nbformat": 4,
 "nbformat_minor": 4
}
