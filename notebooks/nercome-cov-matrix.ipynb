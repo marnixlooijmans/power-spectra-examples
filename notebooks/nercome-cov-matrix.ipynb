{
 "cells": [
  {
   "cell_type": "code",
   "execution_count": 1,
   "metadata": {},
   "outputs": [],
   "source": [
    "import numpy as np\n",
    "import os\n",
    "import sys\n",
    "\n",
    "module_path = os.path.abspath(os.path.join(\"..\"))\n",
    "if module_path not in sys.path:\n",
    "    sys.path.append(module_path)\n",
    "    \n",
    "from lib.pk_tools import pk_tools\n",
    "from lib.shrinkage_estimators import NERCOME"
   ]
  },
  {
   "cell_type": "code",
   "execution_count": 2,
   "metadata": {},
   "outputs": [
    {
     "name": "stdout",
     "output_type": "stream",
     "text": [
      "(120, 500)\n"
     ]
    }
   ],
   "source": [
    "data_path = \"../data/Patchy_V6C_BOSS_DR12_NGC_z1\"\n",
    "all_filenames = os.listdir(data_path)\n",
    "\n",
    "# Select n random filenames\n",
    "n = 500\n",
    "indices = np.random.choice(len(all_filenames), n, replace=False)\n",
    "filenames = np.array(all_filenames)[indices]\n",
    "\n",
    "# Empty power spectrum matrix\n",
    "P = np.empty((120, len(filenames)))\n",
    "\n",
    "i = 0;\n",
    "for filename in filenames:\n",
    "    # Load the data using Beutler's pk_tools module \n",
    "    data = pk_tools.read_power(os.path.join(data_path, filename), combine_bins=10)\n",
    "\n",
    "    # Assign labels to data\n",
    "    P0 = data['pk0']\n",
    "    P2 = data['pk2']\n",
    "    P4 = data['pk4']\n",
    "    \n",
    "    # Add total data as one column vector to the power spectrum matrix\n",
    "    P[:,i] = np.concatenate((P0, P2, P4))\n",
    "    i += 1\n",
    "\n",
    "print(P.shape)"
   ]
  },
  {
   "cell_type": "code",
   "execution_count": 3,
   "metadata": {},
   "outputs": [],
   "source": [
    "cov, S, s_min = NERCOME.NERCOME(P)"
   ]
  },
  {
   "cell_type": "code",
   "execution_count": 4,
   "metadata": {},
   "outputs": [],
   "source": [
    "#np.savetxt(f\"../output/data/Patchy_V6C_BOSS_DR12_NGC_z1_power_spectrum_processed_{n}.matrix\", P)\n",
    "np.savetxt(f\"../output/data/Patchy_V6C_BOSS_DR12_NGC_z1_cov_nercome_{n}_avg100000.matrix\", cov)\n",
    "#np.savetxt(f\"../output/data/Patchy_V6C_BOSS_DR12_NGC_z1_cov_sample_{n}.matrix\", S)"
   ]
  },
  {
   "cell_type": "code",
   "execution_count": 5,
   "metadata": {},
   "outputs": [
    {
     "name": "stdout",
     "output_type": "stream",
     "text": [
      "375\n"
     ]
    }
   ],
   "source": [
    "print(s_min)"
   ]
  },
  {
   "cell_type": "code",
   "execution_count": null,
   "metadata": {},
   "outputs": [],
   "source": []
  }
 ],
 "metadata": {
  "kernelspec": {
   "display_name": "Python 3",
   "language": "python",
   "name": "python3"
  },
  "language_info": {
   "codemirror_mode": {
    "name": "ipython",
    "version": 3
   },
   "file_extension": ".py",
   "mimetype": "text/x-python",
   "name": "python",
   "nbconvert_exporter": "python",
   "pygments_lexer": "ipython3",
   "version": "3.8.3"
  }
 },
 "nbformat": 4,
 "nbformat_minor": 4
}
